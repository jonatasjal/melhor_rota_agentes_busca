{
 "cells": [
  {
   "cell_type": "markdown",
   "metadata": {
    "collapsed": true
   },
   "source": [
    "## Melhor Rota (Taquaritinga > Araraquara)"
   ]
  },
  {
   "cell_type": "markdown",
   "metadata": {},
   "source": [
    "Esse projeto, que faz parte do rol de estudos de AI que tenho me dedicado diariamente. E o objetivo é construir agentes baseados em metas, estes que cosneguem planejar com antecedência a solução de problemas, no caso, problemas de navegação / problema de localização de rotas. No caso desse, queremos descobrir a melhor rota partindo de Taquaritinga (cidade Natal) até a alguma cidade escolhida.\n",
    "\n",
    "Para a tal solução, definimos precisaamente os problemas e suas soluções, com a utilização de vários algoritmos de busca com propósito generalizado. \n",
    "\n",
    "\n",
    "Para quem não tem tanta familiaridade, os algoritmos de busca são classificados em dois tipos:\n",
    "\n",
    "- Algoritmos de Busca Sem Informação: exploram o espaço de pesquisa sem ter qualquer informação sobre o problema, apenas a sua definição\n",
    "Exemplos: Breadth First Search, Depth First Search, Depth Limited Search, Iterative Deepening Search, Uniform Cost Search e outros mais.\n",
    "\n",
    "- Algoritmos de Busca com Informação: esses algoritmos alavancam qualquer informação (heurística) sobre o problema de busca, através do espaço de busca para encontrar a solução de maneira eficiente.\n",
    "Exemplos: Best First Search, A\\* Search, Recursive Best First Search"
   ]
  },
  {
   "cell_type": "markdown",
   "metadata": {},
   "source": [
    "### Bibliotecas e Componentes"
   ]
  },
  {
   "cell_type": "code",
   "execution_count": 1,
   "metadata": {
    "collapsed": false
   },
   "outputs": [],
   "source": [
    "# Importando componentes com as funções\n",
    "from search import *\n",
    "from utils import *\n",
    "\n",
    "# Bibliotecas\n",
    "%matplotlib inline\n",
    "import networkx as nx\n",
    "import matplotlib.pyplot as plt\n",
    "from matplotlib import lines\n",
    "import warnings\n",
    "warnings.filterwarnings('ignore')\n",
    "from ipywidgets import interact\n",
    "import ipywidgets as widgets\n",
    "from IPython.display import display\n",
    "import time\n"
   ]
  },
  {
   "cell_type": "markdown",
   "metadata": {},
   "source": [
    "#### Consultando as funções da classe Problem()"
   ]
  },
  {
   "cell_type": "code",
   "execution_count": 2,
   "metadata": {
    "collapsed": false
   },
   "outputs": [
    {
     "name": "stdout",
     "output_type": "stream",
     "text": [
      "\u001b[1;32mclass\u001b[0m \u001b[0mProblem\u001b[0m\u001b[1;33m(\u001b[0m\u001b[0mobject\u001b[0m\u001b[1;33m)\u001b[0m\u001b[1;33m:\u001b[0m\u001b[1;33m\n",
      "\u001b[0m\u001b[1;33m\n",
      "\u001b[0m    \u001b[1;34m\"\"\"A classe abstrata para um problema formal. Você deve implementar subclasse\n",
      "     para os métodos ações e resultados, e possivelmente\n",
      "     __init__, goal_test e path_cost. Em seguida, você cria instâncias\n",
      "     da sua subclasse e então resolve os problemas com as várias funções de busca.\"\"\"\u001b[0m\u001b[1;33m\n",
      "\u001b[0m\u001b[1;33m\n",
      "\u001b[0m    \u001b[1;32mdef\u001b[0m \u001b[0m__init__\u001b[0m\u001b[1;33m(\u001b[0m\u001b[0mself\u001b[0m\u001b[1;33m,\u001b[0m \u001b[0minitial\u001b[0m\u001b[1;33m,\u001b[0m \u001b[0mgoal\u001b[0m\u001b[1;33m=\u001b[0m\u001b[1;32mNone\u001b[0m\u001b[1;33m)\u001b[0m\u001b[1;33m:\u001b[0m\u001b[1;33m\n",
      "\u001b[0m        \u001b[1;34m\"\"\"O construtor especifica o estado inicial e possivelmente um esdado objetivo, \n",
      "         se houver uma meta única. O construtor da sua subclasse pode adicionar\n",
      "         outros argumentos.\"\"\"\u001b[0m\u001b[1;33m\n",
      "\u001b[0m        \u001b[0mself\u001b[0m\u001b[1;33m.\u001b[0m\u001b[0minitial\u001b[0m \u001b[1;33m=\u001b[0m \u001b[0minitial\u001b[0m\u001b[1;33m\n",
      "\u001b[0m        \u001b[0mself\u001b[0m\u001b[1;33m.\u001b[0m\u001b[0mgoal\u001b[0m \u001b[1;33m=\u001b[0m \u001b[0mgoal\u001b[0m\u001b[1;33m\n",
      "\u001b[0m\u001b[1;33m\n",
      "\u001b[0m    \u001b[1;32mdef\u001b[0m \u001b[0mactions\u001b[0m\u001b[1;33m(\u001b[0m\u001b[0mself\u001b[0m\u001b[1;33m,\u001b[0m \u001b[0mstate\u001b[0m\u001b[1;33m)\u001b[0m\u001b[1;33m:\u001b[0m\u001b[1;33m\n",
      "\u001b[0m        \u001b[1;34m\"\"\"Retornar as ações que podem ser executadas no dado\n",
      "         estado. O resultado normalmente seria uma lista, mas se houver\n",
      "         muitas ações, considere levá-las de uma em uma\n",
      "         iteração, ao invés de construí-los todos de uma vez.\"\"\"\u001b[0m\u001b[1;33m\n",
      "\u001b[0m        \u001b[1;32mraise\u001b[0m \u001b[0mNotImplementedError\u001b[0m\u001b[1;33m\n",
      "\u001b[0m\u001b[1;33m\n",
      "\u001b[0m    \u001b[1;32mdef\u001b[0m \u001b[0mresult\u001b[0m\u001b[1;33m(\u001b[0m\u001b[0mself\u001b[0m\u001b[1;33m,\u001b[0m \u001b[0mstate\u001b[0m\u001b[1;33m,\u001b[0m \u001b[0maction\u001b[0m\u001b[1;33m)\u001b[0m\u001b[1;33m:\u001b[0m\u001b[1;33m\n",
      "\u001b[0m        \u001b[1;34m\"\"\"Retorna o estado que resulta da execução do dado\n",
      "         Ação em um determinado estado. A acção deve ser uma das\n",
      "         Auto-ações (estado).\"\"\"\u001b[0m\u001b[1;33m\n",
      "\u001b[0m        \u001b[1;32mraise\u001b[0m \u001b[0mNotImplementedError\u001b[0m\u001b[1;33m\n",
      "\u001b[0m\u001b[1;33m\n",
      "\u001b[0m    \u001b[1;32mdef\u001b[0m \u001b[0mgoal_test\u001b[0m\u001b[1;33m(\u001b[0m\u001b[0mself\u001b[0m\u001b[1;33m,\u001b[0m \u001b[0mstate\u001b[0m\u001b[1;33m)\u001b[0m\u001b[1;33m:\u001b[0m\u001b[1;33m\n",
      "\u001b[0m        \u001b[1;34m\"\"\"Retornar verdadeiro se o estado for uma meta. O método padrão compara o\n",
      "         estado para self.goal ou verifica o estado em self.goal se é uma\n",
      "         lista, conforme especificado no construtor.\"\"\"\u001b[0m\u001b[1;33m\n",
      "\u001b[0m        \u001b[1;32mif\u001b[0m \u001b[0misinstance\u001b[0m\u001b[1;33m(\u001b[0m\u001b[0mself\u001b[0m\u001b[1;33m.\u001b[0m\u001b[0mgoal\u001b[0m\u001b[1;33m,\u001b[0m \u001b[0mlist\u001b[0m\u001b[1;33m)\u001b[0m\u001b[1;33m:\u001b[0m\u001b[1;33m\n",
      "\u001b[0m            \u001b[1;32mreturn\u001b[0m \u001b[0mis_in\u001b[0m\u001b[1;33m(\u001b[0m\u001b[0mstate\u001b[0m\u001b[1;33m,\u001b[0m \u001b[0mself\u001b[0m\u001b[1;33m.\u001b[0m\u001b[0mgoal\u001b[0m\u001b[1;33m)\u001b[0m\u001b[1;33m\n",
      "\u001b[0m        \u001b[1;32melse\u001b[0m\u001b[1;33m:\u001b[0m\u001b[1;33m\n",
      "\u001b[0m            \u001b[1;32mreturn\u001b[0m \u001b[0mstate\u001b[0m \u001b[1;33m==\u001b[0m \u001b[0mself\u001b[0m\u001b[1;33m.\u001b[0m\u001b[0mgoal\u001b[0m\u001b[1;33m\n",
      "\u001b[0m\u001b[1;33m\n",
      "\u001b[0m    \u001b[1;32mdef\u001b[0m \u001b[0mpath_cost\u001b[0m\u001b[1;33m(\u001b[0m\u001b[0mself\u001b[0m\u001b[1;33m,\u001b[0m \u001b[0mc\u001b[0m\u001b[1;33m,\u001b[0m \u001b[0mstate1\u001b[0m\u001b[1;33m,\u001b[0m \u001b[0maction\u001b[0m\u001b[1;33m,\u001b[0m \u001b[0mstate2\u001b[0m\u001b[1;33m)\u001b[0m\u001b[1;33m:\u001b[0m\u001b[1;33m\n",
      "\u001b[0m        \u001b[1;34m\"\"\"Retorna o custo de um caminho de solução que chega ao estado2 a partir\n",
      "         do estado1 via ação, assumindo o custo c para chegar até estado1. Se o problema\n",
      "         é tal que o caminho não importa, esta função só vai olhar para\n",
      "         estado2. Se o caminho não importa, ele considerará c e talvez estado1\n",
      "         e ação. O método padrão custa 1 para cada etapa do caminho.\"\"\"\u001b[0m\u001b[1;33m\n",
      "\u001b[0m        \u001b[1;32mreturn\u001b[0m \u001b[0mc\u001b[0m \u001b[1;33m+\u001b[0m \u001b[1;36m1\u001b[0m\u001b[1;33m\n",
      "\u001b[0m\u001b[1;33m\n",
      "\u001b[0m    \u001b[1;32mdef\u001b[0m \u001b[0mvalue\u001b[0m\u001b[1;33m(\u001b[0m\u001b[0mself\u001b[0m\u001b[1;33m,\u001b[0m \u001b[0mstate\u001b[0m\u001b[1;33m)\u001b[0m\u001b[1;33m:\u001b[0m\u001b[1;33m\n",
      "\u001b[0m        \u001b[1;32mraise\u001b[0m \u001b[0mNotImplementedError\u001b[0m\u001b[1;33m\u001b[0m\u001b[1;33m\u001b[0m\u001b[0m\n"
     ]
    }
   ],
   "source": [
    "%psource Problem"
   ]
  },
  {
   "cell_type": "markdown",
   "metadata": {},
   "source": [
    "#### Consultando as funções da clase GraphProblem"
   ]
  },
  {
   "cell_type": "code",
   "execution_count": 3,
   "metadata": {
    "collapsed": true
   },
   "outputs": [
    {
     "name": "stdout",
     "output_type": "stream",
     "text": [
      "\u001b[1;32mclass\u001b[0m \u001b[0mGraphProblem\u001b[0m\u001b[1;33m(\u001b[0m\u001b[0mProblem\u001b[0m\u001b[1;33m)\u001b[0m\u001b[1;33m:\u001b[0m\u001b[1;33m\n",
      "\u001b[0m\u001b[1;33m\n",
      "\u001b[0m    \u001b[1;34m\"The problem of searching a graph from one node to another.\"\u001b[0m\u001b[1;33m\n",
      "\u001b[0m\u001b[1;33m\n",
      "\u001b[0m    \u001b[1;32mdef\u001b[0m \u001b[0m__init__\u001b[0m\u001b[1;33m(\u001b[0m\u001b[0mself\u001b[0m\u001b[1;33m,\u001b[0m \u001b[0minitial\u001b[0m\u001b[1;33m,\u001b[0m \u001b[0mgoal\u001b[0m\u001b[1;33m,\u001b[0m \u001b[0mgraph\u001b[0m\u001b[1;33m)\u001b[0m\u001b[1;33m:\u001b[0m\u001b[1;33m\n",
      "\u001b[0m        \u001b[0mProblem\u001b[0m\u001b[1;33m.\u001b[0m\u001b[0m__init__\u001b[0m\u001b[1;33m(\u001b[0m\u001b[0mself\u001b[0m\u001b[1;33m,\u001b[0m \u001b[0minitial\u001b[0m\u001b[1;33m,\u001b[0m \u001b[0mgoal\u001b[0m\u001b[1;33m)\u001b[0m\u001b[1;33m\n",
      "\u001b[0m        \u001b[0mself\u001b[0m\u001b[1;33m.\u001b[0m\u001b[0mgraph\u001b[0m \u001b[1;33m=\u001b[0m \u001b[0mgraph\u001b[0m\u001b[1;33m\n",
      "\u001b[0m\u001b[1;33m\n",
      "\u001b[0m    \u001b[1;32mdef\u001b[0m \u001b[0mactions\u001b[0m\u001b[1;33m(\u001b[0m\u001b[0mself\u001b[0m\u001b[1;33m,\u001b[0m \u001b[0mA\u001b[0m\u001b[1;33m)\u001b[0m\u001b[1;33m:\u001b[0m\u001b[1;33m\n",
      "\u001b[0m        \u001b[1;34m\"The actions at a graph node are just its neighbors.\"\u001b[0m\u001b[1;33m\n",
      "\u001b[0m        \u001b[1;32mreturn\u001b[0m \u001b[0mlist\u001b[0m\u001b[1;33m(\u001b[0m\u001b[0mself\u001b[0m\u001b[1;33m.\u001b[0m\u001b[0mgraph\u001b[0m\u001b[1;33m.\u001b[0m\u001b[0mget\u001b[0m\u001b[1;33m(\u001b[0m\u001b[0mA\u001b[0m\u001b[1;33m)\u001b[0m\u001b[1;33m.\u001b[0m\u001b[0mkeys\u001b[0m\u001b[1;33m(\u001b[0m\u001b[1;33m)\u001b[0m\u001b[1;33m)\u001b[0m\u001b[1;33m\n",
      "\u001b[0m\u001b[1;33m\n",
      "\u001b[0m    \u001b[1;32mdef\u001b[0m \u001b[0mresult\u001b[0m\u001b[1;33m(\u001b[0m\u001b[0mself\u001b[0m\u001b[1;33m,\u001b[0m \u001b[0mstate\u001b[0m\u001b[1;33m,\u001b[0m \u001b[0maction\u001b[0m\u001b[1;33m)\u001b[0m\u001b[1;33m:\u001b[0m\u001b[1;33m\n",
      "\u001b[0m        \u001b[1;34m\"The result of going to a neighbor is just that neighbor.\"\u001b[0m\u001b[1;33m\n",
      "\u001b[0m        \u001b[1;32mreturn\u001b[0m \u001b[0maction\u001b[0m\u001b[1;33m\n",
      "\u001b[0m\u001b[1;33m\n",
      "\u001b[0m    \u001b[1;32mdef\u001b[0m \u001b[0mpath_cost\u001b[0m\u001b[1;33m(\u001b[0m\u001b[0mself\u001b[0m\u001b[1;33m,\u001b[0m \u001b[0mcost_so_far\u001b[0m\u001b[1;33m,\u001b[0m \u001b[0mA\u001b[0m\u001b[1;33m,\u001b[0m \u001b[0maction\u001b[0m\u001b[1;33m,\u001b[0m \u001b[0mB\u001b[0m\u001b[1;33m)\u001b[0m\u001b[1;33m:\u001b[0m\u001b[1;33m\n",
      "\u001b[0m        \u001b[1;32mreturn\u001b[0m \u001b[0mcost_so_far\u001b[0m \u001b[1;33m+\u001b[0m \u001b[1;33m(\u001b[0m\u001b[0mself\u001b[0m\u001b[1;33m.\u001b[0m\u001b[0mgraph\u001b[0m\u001b[1;33m.\u001b[0m\u001b[0mget\u001b[0m\u001b[1;33m(\u001b[0m\u001b[0mA\u001b[0m\u001b[1;33m,\u001b[0m \u001b[0mB\u001b[0m\u001b[1;33m)\u001b[0m \u001b[1;32mor\u001b[0m \u001b[0minfinity\u001b[0m\u001b[1;33m)\u001b[0m\u001b[1;33m\n",
      "\u001b[0m\u001b[1;33m\n",
      "\u001b[0m    \u001b[1;32mdef\u001b[0m \u001b[0mh\u001b[0m\u001b[1;33m(\u001b[0m\u001b[0mself\u001b[0m\u001b[1;33m,\u001b[0m \u001b[0mnode\u001b[0m\u001b[1;33m)\u001b[0m\u001b[1;33m:\u001b[0m\u001b[1;33m\n",
      "\u001b[0m        \u001b[1;34m\"h function is straight-line distance from a node's state to goal.\"\u001b[0m\u001b[1;33m\n",
      "\u001b[0m        \u001b[0mlocs\u001b[0m \u001b[1;33m=\u001b[0m \u001b[0mgetattr\u001b[0m\u001b[1;33m(\u001b[0m\u001b[0mself\u001b[0m\u001b[1;33m.\u001b[0m\u001b[0mgraph\u001b[0m\u001b[1;33m,\u001b[0m \u001b[1;34m'locations'\u001b[0m\u001b[1;33m,\u001b[0m \u001b[1;32mNone\u001b[0m\u001b[1;33m)\u001b[0m\u001b[1;33m\n",
      "\u001b[0m        \u001b[1;32mif\u001b[0m \u001b[0mlocs\u001b[0m\u001b[1;33m:\u001b[0m\u001b[1;33m\n",
      "\u001b[0m            \u001b[1;32mreturn\u001b[0m \u001b[0mint\u001b[0m\u001b[1;33m(\u001b[0m\u001b[0mdistance\u001b[0m\u001b[1;33m(\u001b[0m\u001b[0mlocs\u001b[0m\u001b[1;33m[\u001b[0m\u001b[0mnode\u001b[0m\u001b[1;33m.\u001b[0m\u001b[0mstate\u001b[0m\u001b[1;33m]\u001b[0m\u001b[1;33m,\u001b[0m \u001b[0mlocs\u001b[0m\u001b[1;33m[\u001b[0m\u001b[0mself\u001b[0m\u001b[1;33m.\u001b[0m\u001b[0mgoal\u001b[0m\u001b[1;33m]\u001b[0m\u001b[1;33m)\u001b[0m\u001b[1;33m)\u001b[0m\u001b[1;33m\n",
      "\u001b[0m        \u001b[1;32melse\u001b[0m\u001b[1;33m:\u001b[0m\u001b[1;33m\n",
      "\u001b[0m            \u001b[1;32mreturn\u001b[0m \u001b[0minfinity\u001b[0m\u001b[1;33m\u001b[0m\u001b[1;33m\u001b[0m\u001b[0m\n"
     ]
    }
   ],
   "source": [
    "%psource GraphProblem"
   ]
  },
  {
   "cell_type": "markdown",
   "metadata": {},
   "source": [
    "## Definindo o Problema"
   ]
  },
  {
   "cell_type": "markdown",
   "metadata": {},
   "source": [
    "Definir o problema é o primeiro passo, pois com isso conseguimos descobrir o estado objetivo, partindo de um estado inicial, que será definido no grafo abaixo. Note que criamos dicionários com as distâncias e localizações geográficas das cidades.\n",
    "\n",
    "*as informações não são milimetricamente precisas, pois são para fins de aprendizado."
   ]
  },
  {
   "cell_type": "code",
   "execution_count": 4,
   "metadata": {
    "collapsed": false
   },
   "outputs": [],
   "source": [
    "# Distância entre as cidades e suas vizinhas mais próximas\n",
    "sp_interior_map = UndirectedGraph(dict(\n",
    "    Taquaritinga=dict(Jaboticabal=30, Matão=25, MonteAlto=28, SantaAdélia=35),  \n",
    "    Jaboticabal=dict(Taquaritinga=30, Bebedouro=43, MonteAzulPaulista=20),\n",
    "    Bebedouro=dict(Jaboticabal=43, Barretos=35, Colina=27),\n",
    "    Barretos=dict(Bebedouro=35, Colina=25, Olímpia=30),\n",
    "    Colina=dict(Barretos=25, Bebedouro=27, Jaborandi=30),\n",
    "    Olímpia=dict(Barretos=30, Guaraci=25, SãoJosédoRioPreto=50),\n",
    "    SãoJosédoRioPreto=dict(Olímpia=50, Catanduva=45),\n",
    "    Catanduva=dict(SãoJosédoRioPreto=45, SantaAdélia=40),\n",
    "    SantaAdélia=dict(Taquaritinga=35, Catanduva=40, Itajobi=25),\n",
    "    Itajobi=dict(SantaAdélia=25, Taquaritinga=30),\n",
    "    MonteAlto=dict(Taquaritinga=28, Jaboticabal=34, VistaAlegredoAlto=20),\n",
    "    VistaAlegredoAlto=dict(MonteAlto=20, Taquaritinga=25),\n",
    "    Matão=dict(Taquaritinga=25, Araraquara=26, Itápolis=30),\n",
    "    Itápolis=dict(Matão=30, Bebedouro=35),\n",
    "    Igarapava=dict(Restinga=38, Pedregulho=35),\n",
    "    Restinga=dict(Igarapava=38, Franca=22),\n",
    "    Franca=dict(Restinga=22, Batatais=45),\n",
    "    Batatais=dict(Franca=45, RibeiraoPreto=35),\n",
    "    RibeiraoPreto=dict(Batatais=35, Sertaozinho=20),\n",
    "    Sertaozinho=dict(RibeiraoPreto=20, Pontal=20),\n",
    "    Pontal=dict(Sertaozinho=20, RibeiraoPreto=40)\n",
    "))\n",
    "\n",
    "# Localizações dentro do mapa\n",
    "sp_interior_map.locations = dict(\n",
    "    Taquaritinga=(100, 400),\n",
    "    Jaboticabal=(130, 370),\n",
    "    Bebedouro=(160, 260),\n",
    "    Barretos=(250, 200),\n",
    "    Colina=(230, 180),\n",
    "    Olímpia=(260, 220),\n",
    "    SãoJosédoRioPreto=(270, 230),\n",
    "    Catanduva=(120, 420),\n",
    "    SantaAdélia=(110, 410),\n",
    "    Itajobi=(130, 430),\n",
    "    Jaborandi=(206, 484),\n",
    "    MonteAzulPaulista=(209, 486),\n",
    "    Guaraci=(209, 489),\n",
    "    MonteAlto=(120, 390),\n",
    "    Araraquara=(217, 481),\n",
    "    Pedregulho=(202, 474),\n",
    "    VistaAlegredoAlto=(130, 380),\n",
    "    Matão=(150, 440),\n",
    "    Itápolis=(160, 450),\n",
    "    Igarapava=(450, 620),\n",
    "    Restinga=(420, 580),\n",
    "    Franca=(400, 600),\n",
    "    Batatais=(370, 550),\n",
    "    RibeiraoPreto=(300, 350),\n",
    "    Sertaozinho=(280, 340),\n",
    "    Pontal=(310, 320)\n",
    ")"
   ]
  },
  {
   "cell_type": "markdown",
   "metadata": {
    "collapsed": true
   },
   "source": [
    "Caso você não tenha entendido a lógica, pegamos o primeiro nó (Taquaritinga) com suas quatro cidades vizinhas (Jaboticabal, Monte Alto, Matão e Santa Adélia) e essas recebem a distância em unidades (seja qualquer uma, mas no caso KM) da primeira. Nesse projeto, é utilizada a distância em linha reta.\n"
   ]
  },
  {
   "cell_type": "code",
   "execution_count": 5,
   "metadata": {
    "collapsed": true
   },
   "outputs": [],
   "source": [
    "# Nó inicial e nó destino\n",
    "sp_interior_problem = GraphProblem('Taquaritinga', 'Araraquara', sp_interior_map)"
   ]
  },
  {
   "cell_type": "markdown",
   "metadata": {},
   "source": [
    "## Visualizando uma amostra do mapa do interior do estado de São Paulo"
   ]
  },
  {
   "cell_type": "code",
   "execution_count": 6,
   "metadata": {
    "collapsed": false
   },
   "outputs": [
    {
     "name": "stdout",
     "output_type": "stream",
     "text": [
      "{'Taquaritinga': (100, 400), 'Jaboticabal': (130, 370), 'Bebedouro': (160, 260), 'Barretos': (250, 200), 'Colina': (230, 180), 'Olímpia': (260, 220), 'SãoJosédoRioPreto': (270, 230), 'Catanduva': (120, 420), 'SantaAdélia': (110, 410), 'Itajobi': (130, 430), 'Jaborandi': (206, 484), 'MonteAzulPaulista': (209, 486), 'Guaraci': (209, 489), 'MonteAlto': (120, 390), 'Araraquara': (217, 481), 'Pedregulho': (202, 474), 'VistaAlegredoAlto': (130, 380), 'Matão': (150, 440), 'Itápolis': (160, 450), 'Igarapava': (450, 620), 'Restinga': (420, 580), 'Franca': (400, 600), 'Batatais': (370, 550), 'RibeiraoPreto': (300, 350), 'Sertaozinho': (280, 340), 'Pontal': (310, 320)}\n"
     ]
    }
   ],
   "source": [
    "# Aramazenando as localizações em uma variável\n",
    "sp_interior_locations = sp_interior_map.locations\n",
    "print(sp_interior_locations)"
   ]
  },
  {
   "cell_type": "markdown",
   "metadata": {},
   "source": [
    "Nesse código, usamos networkx e matplotlib para exibir o mapa e usamos ipywidgets para interagir com o mapa para ver como funciona o algoritmo de busca. Começamoos com o gráfico vazio e adicionaremos nós. Além disso, adicionaremos bordas para o gráfico."
   ]
  },
  {
   "cell_type": "code",
   "execution_count": 7,
   "metadata": {
    "collapsed": false
   },
   "outputs": [],
   "source": [
    "# Inicialização do Gráfico\n",
    "G = nx.Graph()\n",
    "\n",
    "# Dicionário de labels para rotular nós no mapa\n",
    "node_labels = dict()\n",
    "\n",
    "# Dicionário de cores que são modificados de acordo com a exploração do gráfico\n",
    "node_colors = dict()\n",
    "\n",
    "# Percorrendo o mapa e atribuindo labels\n",
    "for n, p in sp_interior_locations.items():\n",
    "    G.add_node(n)  # adiciona o nó ao grafo\n",
    "    node_labels[n] = n   # atribui ao rótulo o seu próprio nome \n",
    "    node_colors[n] = \"white\"  # cor inicial\n",
    "\n",
    "# Salvamos as cores do nó inicial em um dicionário (branco)\n",
    "initial_node_colors = dict(node_colors)\n",
    "    \n",
    "# Definimos as posições para rótulos de nó, ajustando a posição para 10 unidades abaixo para evitar sobreposições\n",
    "node_label_pos = {k:[v[0],v[1]-10] for k,v in sp_interior_locations.items()}\n",
    "\n",
    "# Dicionário que será preenchido com as labels das arestas\n",
    "edge_labels = dict()\n",
    "\n",
    "# Adicionamos bordas entre cidades no mapa (função UndirectedGraph definido em search.py)\n",
    "for node in sp_interior_map.nodes():\n",
    "    connections = sp_interior_map.get(node)\n",
    "    for connection in connections.keys():\n",
    "        distance = connections[connection]\n",
    "        G.add_edge(node, connection)\n",
    "        edge_labels[(node, connection)] = distance"
   ]
  },
  {
   "cell_type": "markdown",
   "metadata": {},
   "source": [
    "## Configurando o gráfico"
   ]
  },
  {
   "cell_type": "code",
   "execution_count": 8,
   "metadata": {
    "collapsed": true
   },
   "outputs": [],
   "source": [
    "def show_map(node_colors):\n",
    "    \n",
    "    # Tamanho do gráfico\n",
    "    plt.figure(figsize=(18,13))\n",
    "\n",
    "    # Construção do gráfico\n",
    "    # nx.Graph() é o objeto do grafo criado\n",
    "    # Definimos as posições dos nós (sp_interior_locations)\n",
    "    # Criamos um loop para percorrer cada nó e definir a sua cor\n",
    "    nx.draw(G, pos = sp_interior_locations, node_color = [node_colors[node] for node in G.nodes()])\n",
    "\n",
    "    # Aqui adicionamos os rótulos aos nós, de acordo com as posições evitando sobreposições \n",
    "    node_label_handles = nx.draw_networkx_labels(G, pos = node_label_pos, labels = node_labels, font_size = 14)\n",
    "    \n",
    "    # Adicionando fundo branco aos rótulos\n",
    "    [label.set_bbox(dict(facecolor='white', edgecolor='none')) for label in node_label_handles.values()]\n",
    "\n",
    "    # Exibe informaçõpes nas arestas do grafo (Ex: distâncias)\n",
    "    nx.draw_networkx_edge_labels(G, pos = sp_interior_locations, edge_labels=edge_labels, font_size = 14)\n",
    "    \n",
    "    # Legendas\n",
    "    white_circle = lines.Line2D([], [], color=\"white\", marker='o', markersize=15, markerfacecolor=\"white\")\n",
    "    orange_circle = lines.Line2D([], [], color=\"white\", marker='o', markersize=15, markerfacecolor=\"orange\")\n",
    "    red_circle = lines.Line2D([], [], color=\"white\", marker='o', markersize=15, markerfacecolor=\"red\")\n",
    "    gray_circle = lines.Line2D([], [], color=\"white\", marker='o', markersize=15, markerfacecolor=\"gray\")\n",
    "    plt.legend((white_circle, orange_circle, red_circle, gray_circle),\n",
    "               ('Não Explorado', 'Fronteira', 'Explorando neste momento', 'Explorado'),\n",
    "               numpoints=1,prop={'size':16}, loc=(.8,.75))\n",
    "    \n",
    "    plt.show()"
   ]
  },
  {
   "cell_type": "code",
   "execution_count": 9,
   "metadata": {
    "collapsed": false
   },
   "outputs": [
    {
     "data": {
      "image/png": "[encoded data removed]",
      "text/plain": [
       "<Figure size 1800x1300 with 1 Axes>"
      ]
     },
     "metadata": {},
     "output_type": "display_data"
    },
    {
     "name": "stdout",
     "output_type": "stream",
     "text": [
      "Mapa criado com sucesso!\n"
     ]
    }
   ],
   "source": [
    "show_map(node_colors)\n",
    "print('Mapa criado com sucesso!')"
   ]
  },
  {
   "cell_type": "markdown",
   "metadata": {},
   "source": [
    "## Visualizando Algoritmos de Busca"
   ]
  },
  {
   "cell_type": "markdown",
   "metadata": {},
   "source": [
    "Usaremos variações de algoritmos de busca, na sequência:\n",
    "\n",
    "1. Breadth First Tree Search \n",
    "2. Breadth First Search \n",
    "3. Uniform Cost Search \n",
    "4. A\\*-Search "
   ]
  },
  {
   "cell_type": "markdown",
   "metadata": {},
   "source": [
    "#### Definindo as cores dos status"
   ]
  },
  {
   "cell_type": "markdown",
   "metadata": {},
   "source": [
    "* Nós Não Explorados - <font color='black'>white</font>\n",
    "* Nós Fronteira - <font color='orange'>orange</font>\n",
    "* Nós Sendo Explorados Neste Momento - <font color='red'>red</font>\n",
    "* Nós já Explorados - <font color='gray'>gray</font>"
   ]
  },
  {
   "cell_type": "markdown",
   "metadata": {},
   "source": [
    "Nesse bloco, utilizamos os widgets interativos do Jupyter para que através dp sistema de visualização de algoritmos de busca em grafos. Isso permite que o usuário escolha um algoritmo de busca."
   ]
  },
  {
   "cell_type": "code",
   "execution_count": 10,
   "metadata": {
    "collapsed": false
   },
   "outputs": [],
   "source": [
    "# Função para dar destaque ao caminho final encontrado\n",
    "def final_path_colors(problem, solution):\n",
    "    \"Retorna um node_colors dict do caminho final do problema até a solução\"\n",
    "    \n",
    "    final_colors = dict(initial_node_colors)  # estado inicial das cores\n",
    "    final_colors[problem.initial] = \"green\"  # deixa o estado inicial de verde\n",
    "    for node in solution:\n",
    "        final_colors[node] = \"green\"   # pinta todos os nós da solução de verde\n",
    "    return final_colors\n",
    "\n",
    "# Função para exibir a interface interativa (como a visualização será feita)\n",
    "# Sintaxe: booleano que define se o usuário por interagir ou não; algoritmo a ser usado; problema a ser resolvido\n",
    "def display_visual(user_input, algorithm=None, problem=None):\n",
    "    # Execução automática caso for false \n",
    "    # Essa execução gerencia a visualização do grafo sem permitir a escolha manual\n",
    "    if user_input == False:\n",
    "        # Slider\n",
    "        def slider_callback(iteration):\n",
    "            try:\n",
    "                show_map(all_node_colors[iteration])\n",
    "            except:\n",
    "                pass\n",
    "        # Callback para execução do algoritmo (quando um botão for ativado)\n",
    "        def visualize_callback(Visualize):\n",
    "            if Visualize is True:\n",
    "                # False por padrão para garantir que o botão possa ser clicado após a execução\n",
    "                button.value = False\n",
    "                \n",
    "                global all_node_colors  # armazena os estados do grafo\n",
    "                \n",
    "                iterations, all_node_colors, node = algorithm(problem)  # chama o alforitmo de solução de problemas\n",
    "                solution = node.solution()  # retorna uma sequência de nós\n",
    "                all_node_colors.append(final_path_colors(problem, solution))  # gera um dicionário de todos os nós verdes\n",
    "                \n",
    "                slider.max = len(all_node_colors) - 1  # atualizamos o limite máximo do slider para corresponder ao total de iterações (permitindo percorrer todas as etapas)\n",
    "                \n",
    "                # Percorrendo todas as iterações\n",
    "                for i in range(slider.max + 1):\n",
    "                    slider.value = i\n",
    "        \n",
    "        # Criamos um slider iterativo\n",
    "        slider = widgets.IntSlider(min=0, max=1, step=1, value=0)\n",
    "        slider_visual = widgets.interactive(slider_callback, iteration = slider)\n",
    "        display(slider_visual)\n",
    "\n",
    "        # Botão para iniciar o algoritmo\n",
    "        button = widgets.ToggleButton(value = False)\n",
    "        button_visual = widgets.interactive(visualize_callback, Visualize = button)\n",
    "        display(button_visual)\n",
    "    \n",
    "    # Criamos um dropdwon que permite ao usuário escolher o algoritmo de busca\n",
    "    if user_input == True:\n",
    "        node_colors = dict(initial_node_colors)\n",
    "        if algorithm == None:\n",
    "            algorithms = {\"Breadth First Tree Search\": breadth_first_tree_search, \"Breadth First Search\": breadth_first_search, \"Uniform Cost Search\": uniform_cost_search, \"A-star Search\": astar_search}\n",
    "            algo_dropdown = widgets.Dropdown(description = \"Search algorithm: \", options = sorted(list(algorithms.keys())), value = \"Breadth First Tree Search\")\n",
    "            display(algo_dropdown)\n",
    "        \n",
    "        def slider_callback(iteration):\n",
    "            try:\n",
    "                show_map(all_node_colors[iteration])\n",
    "            except:\n",
    "                pass\n",
    "            \n",
    "        def visualize_callback(Visualize):\n",
    "            if Visualize is True:\n",
    "                button.value = False\n",
    "                \n",
    "                problem = GraphProblem(start_dropdown.value, end_dropdown.value, sp_interior_map)\n",
    "                global all_node_colors\n",
    "                \n",
    "                if algorithm == None:\n",
    "                    user_algorithm = algorithms[algo_dropdown.value]\n",
    "            \n",
    "                \n",
    "                iterations, all_node_colors, node = user_algorithm(problem)\n",
    "                solution = node.solution()\n",
    "                all_node_colors.append(final_path_colors(problem, solution))\n",
    "\n",
    "                slider.max = len(all_node_colors) - 1\n",
    "                \n",
    "                for i in range(slider.max + 1):\n",
    "                    slider.value = i\n",
    "        \n",
    "        # Dropdown para selecionar a cidade de origem\n",
    "        start_dropdown = widgets.Dropdown(description = \"Start city: \", options = sorted(list(node_colors.keys())), value = \"Taquaritinga\")\n",
    "        display(start_dropdown)\n",
    "\n",
    "        # Dropdown para selecionar a cidade de destino\n",
    "        end_dropdown = widgets.Dropdown(description = \"Goal city: \", options = sorted(list(node_colors.keys())), value = \"Araraquara\")\n",
    "        display(end_dropdown)\n",
    "        \n",
    "        # Botão para inicializar\n",
    "        button = widgets.ToggleButton(value = False)\n",
    "        button_visual = widgets.interactive(visualize_callback, Visualize = button)\n",
    "        display(button_visual)\n",
    "        \n",
    "        # Slider para cada etapa\n",
    "        slider = widgets.IntSlider(min=0, max=1, step=1, value=0)\n",
    "        slider_visual = widgets.interactive(slider_callback, iteration = slider)\n",
    "        display(slider_visual)\n",
    "        "
   ]
  },
  {
   "cell_type": "markdown",
   "metadata": {},
   "source": [
    "## Busca em Largura - Breadth-First Tree Search (BFTS) - BFS modificado"
   ]
  },
  {
   "cell_type": "markdown",
   "metadata": {},
   "source": [
    "É um algoritmo de busca em grafos que explora primeiro os nós mais próximos do nó inicial, expandindo-os de maneira nivelada, ou seja, visitando todos os nós de uma profundidade antes de avançar para a próxima.\n",
    "\n",
    "Suas vantagens:\n",
    "- Sempre encontra uma ótima solução se o custo das arestas for uniforme\n",
    "- Boa escolha para problemas com soluções próximas ao nó inicial\n",
    "\n",
    "Suas desvantagens:\n",
    "- Consome muita memória\n",
    "- Não funciona tão bem para espaços de busca muito grandes"
   ]
  },
  {
   "cell_type": "code",
   "execution_count": 11,
   "metadata": {
    "collapsed": false
   },
   "outputs": [],
   "source": [
    "# Faz busca em árvore (recebe problema e fronteira)\n",
    "def tree_search(problem, frontier):\n",
    "    \"\"\"Procure através dos sucessores de um problema para encontrar uma meta.\n",
    "     A fronteira do argumento deve ser uma fila vazia.\n",
    "     Não se preocupe com caminhos repetidos para um estado. \"\"\"\n",
    "    \n",
    "    # Essa parte já foi explicada anteriormente\n",
    "    iterations = 0\n",
    "    all_node_colors = []\n",
    "    node_colors = dict(initial_node_colors)\n",
    "    \n",
    "    # Adicionando o nó inicial à fronteira\n",
    "    frontier.append(Node(problem.initial))\n",
    "    \n",
    "    node_colors[Node(problem.initial).state] = \"orange\"\n",
    "    iterations += 1\n",
    "    all_node_colors.append(dict(node_colors))\n",
    "    \n",
    "    # Enquanto houver nós na fronteira o loop continu\n",
    "    while frontier:\n",
    "        node = frontier.pop()  # remove o próximo nó da fronteira\n",
    "        \n",
    "        node_colors[node.state] = \"red\"  # sendo explorado\n",
    "        iterations += 1\n",
    "        all_node_colors.append(dict(node_colors))\n",
    "        \n",
    "        # Teste de objetivo (verifica se o atual é o objetivo)\n",
    "        if problem.goal_test(node.state):\n",
    "            node_colors[node.state] = \"green\"   # foi encontrado\n",
    "            iterations += 1\n",
    "            all_node_colors.append(dict(node_colors))\n",
    "            return(iterations, all_node_colors, node)\n",
    "        \n",
    "        # Expande o nó atual e adiciona seus sucessores à fronteira\n",
    "        frontier.extend(node.expand(problem))\n",
    "           \n",
    "        for n in node.expand(problem):\n",
    "            node_colors[n.state] = \"orange\"  # indica que está na fronteira\n",
    "            iterations += 1\n",
    "            all_node_colors.append(dict(node_colors))\n",
    "\n",
    "        # Marca o nós atual como Explorado\n",
    "        node_colors[node.state] = \"gray\"\n",
    "        iterations += 1\n",
    "        all_node_colors.append(dict(node_colors))\n",
    "        \n",
    "    return None\n",
    "\n",
    "# Função de execução\n",
    "def breadth_first_tree_search(problem):\n",
    "    \"Pesquise primeiro os nós mais rasos na árvore de pesquisa.\"\n",
    "    # Chama tree_search com o problem e uma fila FIFO (FIFOQueue()) para garantir que os nós mais rasos sejam explorados primeiro\n",
    "    iterations, all_node_colors, node = tree_search(problem, FIFOQueue())\n",
    "    return(iterations, all_node_colors, node)"
   ]
  },
  {
   "cell_type": "markdown",
   "metadata": {},
   "source": [
    "Através do uso do ipywidgets, exibimos um controle deslizante, um botão e nosso o mapa com as cidades selecionadas. Ao deslizar o controle  conseguimos visualizar todos os passos intermediários que o algoritmo de pesquisa realiza.\n",
    "\n",
    "No código abaixo inicializa uma lista para armazenar o histórico de cores dos nós, definimos o problema entre 2 cidades e invocamos o algoritmo."
   ]
  },
  {
   "cell_type": "code",
   "execution_count": 12,
   "metadata": {
    "collapsed": false
   },
   "outputs": [
    {
     "data": {
      "application/vnd.jupyter.widget-view+json": {
       "model_id": "b834107e7bfe4a488525214463952f94",
       "version_major": 2,
       "version_minor": 0
      },
      "text/plain": [
       "interactive(children=(IntSlider(value=0, description='iteration', max=1), Output()), _dom_classes=('widget-int…"
      ]
     },
     "metadata": {},
     "output_type": "display_data"
    },
    {
     "data": {
      "application/vnd.jupyter.widget-view+json": {
       "model_id": "4c06a295f205400d9058e39c35550d3c",
       "version_major": 2,
       "version_minor": 0
      },
      "text/plain": [
       "interactive(children=(ToggleButton(value=False, description='Visualize'), Output()), _dom_classes=('widget-int…"
      ]
     },
     "metadata": {},
     "output_type": "display_data"
    }
   ],
   "source": [
    "all_node_colors = []\n",
    "sp_interior_problem = GraphProblem('Taquaritinga', 'Araraquara', sp_interior_map)\n",
    "display_visual(user_input = False, algorithm = breadth_first_tree_search, problem = sp_interior_problem)"
   ]
  },
  {
   "cell_type": "markdown",
   "metadata": {
    "collapsed": true
   },
   "source": [
    "## Busca em Largura - Breadth-First Search (BFS)"
   ]
  },
  {
   "cell_type": "markdown",
   "metadata": {},
   "source": [
    "Um algoritmo que explora os nós de maneira nivelada, ou seja, visita todos os nós de um nível antes de avançar para o próximo nível.\n",
    "\n",
    "Vantagens:\n",
    "- sempre encontra uma solução caso ela exista\n",
    "- explora todos os nós no nível antes de passar para o próximo\n",
    "- simplicidade\n",
    "- ideal para grafos menores\n",
    "\n",
    "Desvantagens:\n",
    "- Alto consumo de memória\n",
    "- Não ideal para grafos muito grandes\n",
    "- Desconsidera custos de arestas\n",
    "- Revisita estados\n"
   ]
  },
  {
   "cell_type": "code",
   "execution_count": 13,
   "metadata": {
    "collapsed": true
   },
   "outputs": [],
   "source": [
    "# Definição do breadth_first_search que recebe o problema \n",
    "def breadth_first_search(problem):\n",
    "    \n",
    "    iterations = 0\n",
    "    all_node_colors = []\n",
    "    node_colors = dict(initial_node_colors)\n",
    "    \n",
    "    node = Node(problem.initial)\n",
    "    \n",
    "    node_colors[node.state] = \"red\"\n",
    "    iterations += 1\n",
    "    all_node_colors.append(dict(node_colors))\n",
    "    \n",
    "    # verifica se o nó inicial é o objetivo\n",
    "    if problem.goal_test(node.state):\n",
    "        node_colors[node.state] = \"green\"\n",
    "        iterations += 1\n",
    "        all_node_colors.append(dict(node_colors))\n",
    "        return(iterations, all_node_colors, node)\n",
    "    \n",
    "    # Iniciando a fronteira como uma fila (FIFO)\n",
    "    frontier = FIFOQueue()\n",
    "    frontier.append(node)\n",
    "    \n",
    "    node_colors[node.state] = \"orange\"\n",
    "    iterations += 1\n",
    "    all_node_colors.append(dict(node_colors))\n",
    "        \n",
    "    explored = set()\n",
    "    \n",
    "    # Enquanto houver nós na fronteira o loop continua\n",
    "    while frontier:\n",
    "        node = frontier.pop()\n",
    "        node_colors[node.state] = \"red\"\n",
    "        iterations += 1\n",
    "        all_node_colors.append(dict(node_colors))\n",
    "        \n",
    "        explored.add(node.state)     \n",
    "        \n",
    "        # Expandimos o nó atual e verificamos se o filho não foi explorado e não está na fronteira\n",
    "        for child in node.expand(problem):\n",
    "            if child.state not in explored and child not in frontier:\n",
    "                if problem.goal_test(child.state):\n",
    "                    node_colors[child.state] = \"green\"\n",
    "                    iterations += 1\n",
    "                    all_node_colors.append(dict(node_colors))\n",
    "                    return(iterations, all_node_colors, child)\n",
    "                frontier.append(child)\n",
    "\n",
    "                # Caso não tenha sido explorado, adicionamos o filho e pintamos de laranja\n",
    "                node_colors[child.state] = \"orange\"\n",
    "                iterations += 1\n",
    "                all_node_colors.append(dict(node_colors))\n",
    "                    \n",
    "        node_colors[node.state] = \"gray\"\n",
    "        iterations += 1\n",
    "        all_node_colors.append(dict(node_colors))\n",
    "    return None"
   ]
  },
  {
   "cell_type": "code",
   "execution_count": 14,
   "metadata": {
    "collapsed": false
   },
   "outputs": [
    {
     "data": {
      "application/vnd.jupyter.widget-view+json": {
       "model_id": "363f9cf91af645baa8bd7ad41eee9b52",
       "version_major": 2,
       "version_minor": 0
      },
      "text/plain": [
       "interactive(children=(IntSlider(value=0, description='iteration', max=1), Output()), _dom_classes=('widget-int…"
      ]
     },
     "metadata": {},
     "output_type": "display_data"
    },
    {
     "data": {
      "application/vnd.jupyter.widget-view+json": {
       "model_id": "ce837a5d6c184db0a314ef47d1587158",
       "version_major": 2,
       "version_minor": 0
      },
      "text/plain": [
       "interactive(children=(ToggleButton(value=False, description='Visualize'), Output()), _dom_classes=('widget-int…"
      ]
     },
     "metadata": {},
     "output_type": "display_data"
    }
   ],
   "source": [
    "all_node_colors = []\n",
    "sp_interior_problem = GraphProblem('Taquaritinga', 'Igarapava', sp_interior_map)\n",
    "display_visual(user_input = False, algorithm = breadth_first_search, problem = sp_interior_problem)"
   ]
  },
  {
   "cell_type": "markdown",
   "metadata": {},
   "source": [
    "## Busca de Custo Uniforme - Uniform-Cost Search (UCS)"
   ]
  },
  {
   "cell_type": "markdown",
   "metadata": {},
   "source": [
    "Algoritmo que expande o nó com o menor custo acumulado primeiro. Diferente da Busca em Largura (BFS), que trata todas as arestas como tendo o mesmo custo, a UCS leva em consideração os custos das arestas, garantindo que a solução encontrada seja a de menor custo total.\n",
    "\n",
    "Vantagens:\n",
    "- Ótimos grafos ponderados\n",
    "- Sempre encontra solução\n",
    "- Flexibilidade\n",
    "- Evita ciclos\n",
    "\n",
    "Desvantagens:\n",
    "- Alto consumo de memória\n",
    "- Complexidade de tempo\n",
    "- Desempemnho depende da função de custo\n",
    "- Não indicado para problemas de cusos negativos"
   ]
  },
  {
   "cell_type": "code",
   "execution_count": 15,
   "metadata": {
    "collapsed": true
   },
   "outputs": [],
   "source": [
    "# Função que realiza uma busca informada, onde a ordem de expansão dos nós é determinada pela função f\n",
    "def best_first_graph_search(problem, f):\n",
    "    \"\"\"Pesquise primeiro os nós com as pontuações f mais baixas.\n",
    "    Você especifica a função f (nó) que você deseja minimizar; por exemplo,\n",
    "    se f é uma estimativa heurística para a meta, então temos a melhor pesquisa gananciosa (greedy); \n",
    "    Se f é node.depth então temos breadth-first search.\n",
    "    Há uma sutileza: a linha \"f = memoize (f, 'f')\" significa que os valores de f\n",
    "    serão armazenados em cache nos nós à medida que forem computados. Então, depois de fazer\n",
    "    uma primeira pesquisa você pode examinar os valores f do caminho de retorno.\"\"\"\n",
    "    \n",
    "    iterations = 0\n",
    "    all_node_colors = []\n",
    "    node_colors = dict(initial_node_colors)\n",
    "    \n",
    "    f = memoize(f, 'f')  # Função que calcula o valor de cada nó, determinando a ordem de expansão\n",
    "    node = Node(problem.initial)\n",
    "    \n",
    "    node_colors[node.state] = \"red\"\n",
    "    iterations += 1\n",
    "    all_node_colors.append(dict(node_colors))\n",
    "    \n",
    "    # Verificando se o nó inicial é o objetivo\n",
    "    if problem.goal_test(node.state):\n",
    "        node_colors[node.state] = \"green\"\n",
    "        iterations += 1\n",
    "        all_node_colors.append(dict(node_colors))\n",
    "        return(iterations, all_node_colors, node)\n",
    "    \n",
    "    # Inicializa a fronteira como uma fila de prioridade (PriorityQueue), onde a prioridade é determinada pela função f\n",
    "    frontier = PriorityQueue(min, f)\n",
    "    frontier.append(node)\n",
    "    \n",
    "    node_colors[node.state] = \"orange\"\n",
    "    iterations += 1\n",
    "    all_node_colors.append(dict(node_colors))\n",
    "    \n",
    "    explored = set()\n",
    "\n",
    "    # Enquanto houver nós na fronteira, o loop continua\n",
    "    while frontier:\n",
    "        node = frontier.pop()\n",
    "        \n",
    "        node_colors[node.state] = \"red\"\n",
    "        iterations += 1\n",
    "        all_node_colors.append(dict(node_colors))\n",
    "        \n",
    "        if problem.goal_test(node.state):\n",
    "            node_colors[node.state] = \"green\"\n",
    "            iterations += 1\n",
    "            all_node_colors.append(dict(node_colors))\n",
    "            return(iterations, all_node_colors, node)\n",
    "        \n",
    "        # Expansão do nó atual / Verifica se o filho não foi explorado e não está na fronteira\n",
    "        explored.add(node.state)\n",
    "        for child in node.expand(problem):\n",
    "            if child.state not in explored and child not in frontier:\n",
    "                frontier.append(child)\n",
    "                # Adiciona o filho à fonteira e o pinta de laranja\n",
    "                node_colors[child.state] = \"orange\"\n",
    "                iterations += 1\n",
    "                all_node_colors.append(dict(node_colors))\n",
    "            # Se o filho já estiver na fronte3ira, compara o valor de f do filho com o nó na fronteira\n",
    "            elif child in frontier:\n",
    "                incumbent = frontier[child]\n",
    "                if f(child) < f(incumbent):\n",
    "                    del frontier[incumbent]\n",
    "                    frontier.append(child)\n",
    "                    node_colors[child.state] = \"orange\"\n",
    "                    iterations += 1\n",
    "                    all_node_colors.append(dict(node_colors))\n",
    "        # Marca o nó atual como explorador\n",
    "        node_colors[node.state] = \"gray\"\n",
    "        iterations += 1\n",
    "        all_node_colors.append(dict(node_colors))\n",
    "    return None\n",
    "\n",
    "# Execução\n",
    "def uniform_cost_search(problem):\n",
    "    iterations, all_node_colors, node = best_first_graph_search(problem, lambda node: node.path_cost)\n",
    "    return(iterations, all_node_colors, node)"
   ]
  },
  {
   "cell_type": "code",
   "execution_count": 16,
   "metadata": {
    "collapsed": false
   },
   "outputs": [
    {
     "data": {
      "application/vnd.jupyter.widget-view+json": {
       "model_id": "3f0491973a624d5988ccb9452091cf52",
       "version_major": 2,
       "version_minor": 0
      },
      "text/plain": [
       "interactive(children=(IntSlider(value=0, description='iteration', max=1), Output()), _dom_classes=('widget-int…"
      ]
     },
     "metadata": {},
     "output_type": "display_data"
    },
    {
     "data": {
      "application/vnd.jupyter.widget-view+json": {
       "model_id": "692be610e5e744b99def647bd6c9b5de",
       "version_major": 2,
       "version_minor": 0
      },
      "text/plain": [
       "interactive(children=(ToggleButton(value=False, description='Visualize'), Output()), _dom_classes=('widget-int…"
      ]
     },
     "metadata": {},
     "output_type": "display_data"
    }
   ],
   "source": [
    "all_node_colors = []\n",
    "sp_interior_problem = GraphProblem('Taquaritinga', 'Igarapava', sp_interior_map)\n",
    "display_visual(user_input = False, algorithm = uniform_cost_search, problem = sp_interior_problem)"
   ]
  },
  {
   "cell_type": "markdown",
   "metadata": {},
   "source": [
    "## A* Search"
   ]
  },
  {
   "cell_type": "markdown",
   "metadata": {},
   "source": [
    "Algoritmo de busca heurística muito utilizado para encontrar o caminho mais curto em grafos ponderados. Ele combina as vantagens da Busca de Custo Uniforme (UCS) e da Busca Gananciosa (Greedy Search), utilizando uma função de avaliação que leva em conta tanto o custo acumulado quanto uma estimativa heurística do custo até o objetivo.\n",
    "\n",
    "Vantagens:\n",
    "- ótimo para grafos ponderados\n",
    "- sempre encontra solução\n",
    "- flexível\n",
    "- heurística para guiar busca\n",
    "\n",
    "Desvantagens:\n",
    "- Consumo\n",
    "- Complexidade\n",
    "- Inadequado para problemas com heurísticas inadmissíveis\n",
    "- Implementação complexa\n",
    "\n",
    "Tudo o que foi implementado anteriormente está nesse código, maiores explicações não são preciso."
   ]
  },
  {
   "cell_type": "code",
   "execution_count": 17,
   "metadata": {
    "collapsed": true
   },
   "outputs": [],
   "source": [
    "def best_first_graph_search(problem, f):\n",
    "\n",
    "    iterations = 0\n",
    "    all_node_colors = []\n",
    "    node_colors = dict(initial_node_colors)\n",
    "    \n",
    "    f = memoize(f, 'f')\n",
    "    node = Node(problem.initial)\n",
    "    \n",
    "    node_colors[node.state] = \"red\"\n",
    "    iterations += 1\n",
    "    all_node_colors.append(dict(node_colors))\n",
    "    \n",
    "    if problem.goal_test(node.state):\n",
    "        node_colors[node.state] = \"green\"\n",
    "        iterations += 1\n",
    "        all_node_colors.append(dict(node_colors))\n",
    "        return(iterations, all_node_colors, node)\n",
    "    \n",
    "    frontier = PriorityQueue(min, f)\n",
    "    frontier.append(node)\n",
    "    \n",
    "    node_colors[node.state] = \"orange\"\n",
    "    iterations += 1\n",
    "    all_node_colors.append(dict(node_colors))\n",
    "    \n",
    "    explored = set()\n",
    "    while frontier:\n",
    "        node = frontier.pop()\n",
    "        \n",
    "        node_colors[node.state] = \"red\"\n",
    "        iterations += 1\n",
    "        all_node_colors.append(dict(node_colors))\n",
    "        \n",
    "        if problem.goal_test(node.state):\n",
    "            node_colors[node.state] = \"green\"\n",
    "            iterations += 1\n",
    "            all_node_colors.append(dict(node_colors))\n",
    "            return(iterations, all_node_colors, node)\n",
    "        \n",
    "        explored.add(node.state)\n",
    "        for child in node.expand(problem):\n",
    "            if child.state not in explored and child not in frontier:\n",
    "                frontier.append(child)\n",
    "                node_colors[child.state] = \"orange\"\n",
    "                iterations += 1\n",
    "                all_node_colors.append(dict(node_colors))\n",
    "            elif child in frontier:\n",
    "                incumbent = frontier[child]\n",
    "                if f(child) < f(incumbent):\n",
    "                    del frontier[incumbent]\n",
    "                    frontier.append(child)\n",
    "                    node_colors[child.state] = \"orange\"\n",
    "                    iterations += 1\n",
    "                    all_node_colors.append(dict(node_colors))\n",
    "\n",
    "        node_colors[node.state] = \"gray\"\n",
    "        iterations += 1\n",
    "        all_node_colors.append(dict(node_colors))\n",
    "    return None\n",
    "\n",
    "def astar_search(problem, h=None):\n",
    "    \"\"\"A busca A* é a melhor pesquisa de gráfico com f (n) = g (n) + h (n).\n",
    "    Você precisa especificar a função h quando você chama a função astar_search, ou\n",
    "    em sua subclasse de Problemas.\"\"\"\n",
    "    h = memoize(h or problem.h, 'h')\n",
    "    iterations, all_node_colors, node = best_first_graph_search(problem, lambda n: n.path_cost + h(n))\n",
    "    return(iterations, all_node_colors, node)"
   ]
  },
  {
   "cell_type": "code",
   "execution_count": 18,
   "metadata": {
    "collapsed": false
   },
   "outputs": [
    {
     "data": {
      "application/vnd.jupyter.widget-view+json": {
       "model_id": "bbb19ae0022344c3977d089c64c0eeda",
       "version_major": 2,
       "version_minor": 0
      },
      "text/plain": [
       "interactive(children=(IntSlider(value=0, description='iteration', max=1), Output()), _dom_classes=('widget-int…"
      ]
     },
     "metadata": {},
     "output_type": "display_data"
    },
    {
     "data": {
      "application/vnd.jupyter.widget-view+json": {
       "model_id": "1f9e40c446494601bebfedcb55f03273",
       "version_major": 2,
       "version_minor": 0
      },
      "text/plain": [
       "interactive(children=(ToggleButton(value=False, description='Visualize'), Output()), _dom_classes=('widget-int…"
      ]
     },
     "metadata": {},
     "output_type": "display_data"
    }
   ],
   "source": [
    "all_node_colors = []\n",
    "sp_interior_problem = GraphProblem('Taquaritinga', 'Barretos', sp_interior_map)\n",
    "display_visual(user_input = False, algorithm = astar_search, problem = sp_interior_problem)"
   ]
  },
  {
   "cell_type": "markdown",
   "metadata": {},
   "source": [
    "## Aplicativo de Busca"
   ]
  },
  {
   "cell_type": "markdown",
   "metadata": {},
   "source": [
    "Aqui é possível escolher o algoritmo de busca, a cidade de origem e a cidade de destino. Acompanhe a interação."
   ]
  },
  {
   "cell_type": "code",
   "execution_count": 19,
   "metadata": {
    "collapsed": false,
    "scrolled": true
   },
   "outputs": [
    {
     "data": {
      "application/vnd.jupyter.widget-view+json": {
       "model_id": "23e6ae8a0e16456e833692c3ec999724",
       "version_major": 2,
       "version_minor": 0
      },
      "text/plain": [
       "Dropdown(description='Search algorithm: ', index=2, options=('A-star Search', 'Breadth First Search', 'Breadth…"
      ]
     },
     "metadata": {},
     "output_type": "display_data"
    },
    {
     "data": {
      "application/vnd.jupyter.widget-view+json": {
       "model_id": "d753091ee43844d388a9c88e992fcc4d",
       "version_major": 2,
       "version_minor": 0
      },
      "text/plain": [
       "Dropdown(description='Start city: ', index=24, options=('Araraquara', 'Barretos', 'Batatais', 'Bebedouro', 'Ca…"
      ]
     },
     "metadata": {},
     "output_type": "display_data"
    },
    {
     "data": {
      "application/vnd.jupyter.widget-view+json": {
       "model_id": "b10d33381aac4e8b8ad2f9fe9018ced3",
       "version_major": 2,
       "version_minor": 0
      },
      "text/plain": [
       "Dropdown(description='Goal city: ', options=('Araraquara', 'Barretos', 'Batatais', 'Bebedouro', 'Catanduva', '…"
      ]
     },
     "metadata": {},
     "output_type": "display_data"
    },
    {
     "data": {
      "application/vnd.jupyter.widget-view+json": {
       "model_id": "a8d7b738c03c4094b5053f353c3a563b",
       "version_major": 2,
       "version_minor": 0
      },
      "text/plain": [
       "interactive(children=(ToggleButton(value=False, description='Visualize'), Output()), _dom_classes=('widget-int…"
      ]
     },
     "metadata": {},
     "output_type": "display_data"
    },
    {
     "data": {
      "application/vnd.jupyter.widget-view+json": {
       "model_id": "80bbcec0382f468abd88fc55176d8291",
       "version_major": 2,
       "version_minor": 0
      },
      "text/plain": [
       "interactive(children=(IntSlider(value=0, description='iteration', max=1), Output()), _dom_classes=('widget-int…"
      ]
     },
     "metadata": {},
     "output_type": "display_data"
    }
   ],
   "source": [
    "all_node_colors = []\n",
    "display_visual(user_input = True)"
   ]
  },
  {
   "cell_type": "markdown",
   "metadata": {
    "collapsed": true
   },
   "source": [
    "## Fim"
   ]
  }
 ],
 "metadata": {
  "anaconda-cloud": {},
  "kernelspec": {
   "display_name": "base",
   "language": "python",
   "name": "python3"
  },
  "language_info": {
   "codemirror_mode": {
    "name": "ipython",
    "version": 3
   },
   "file_extension": ".py",
   "mimetype": "text/x-python",
   "name": "python",
   "nbconvert_exporter": "python",
   "pygments_lexer": "ipython3",
   "version": "3.11.7"
  },
  "widgets": {
   "state": {
    "02b6dae714d2470093b8704e0688989f": {
     "views": [
      {
       "cell_index": 38
      }
     ]
    },
    "0af1ca96d8854a8fb77b81d0b85b008f": {
     "views": [
      {
       "cell_index": 30
      }
     ]
    },
    "15880986b98449cfa815c019d6304654": {
     "views": [
      {
       "cell_index": 36
      }
     ]
    },
    "2bde1b52156544e0b41a807c0d51f5cd": {
     "views": [
      {
       "cell_index": 33
      }
     ]
    },
    "3dadac3162f942ac9163a6656904a357": {
     "views": [
      {
       "cell_index": 30
      }
     ]
    },
    "43375be4385345f89929650b7f9c21da": {
     "views": [
      {
       "cell_index": 38
      }
     ]
    },
    "56ab3d4187d644c09994eea2225cad3a": {
     "views": [
      {
       "cell_index": 33
      }
     ]
    },
    "59895a24bbf04689a9deea8fa05fab1f": {
     "views": [
      {
       "cell_index": 33
      }
     ]
    },
    "5f51df31dfda4ce5b1001bd49e19e35a": {
     "views": [
      {
       "cell_index": 30
      }
     ]
    },
    "90326cfe454f4b72b2207e0d2ad4d80a": {
     "views": [
      {
       "cell_index": 38
      }
     ]
    },
    "9580d87998c541a99beba33b53ac94ee": {
     "views": [
      {
       "cell_index": 27
      }
     ]
    },
    "9c1745fd4c13481d9670035e5aa3853b": {
     "views": [
      {
       "cell_index": 38
      }
     ]
    },
    "c8437221b9e64bf8b257c8aa8f910233": {
     "views": [
      {
       "cell_index": 36
      }
     ]
    },
    "d3fd4af8de0448b899eec2fc8d13372d": {
     "views": [
      {
       "cell_index": 27
      }
     ]
    },
    "d817954b2a85490eb58974e8f985730a": {
     "views": [
      {
       "cell_index": 27
      }
     ]
    },
    "df10294c1fac4dd4917c7b421a2c22a9": {
     "views": [
      {
       "cell_index": 38
      }
     ]
    },
    "e3f25fdf70ad43baa9e20d42db8cdd6e": {
     "views": [
      {
       "cell_index": 36
      }
     ]
    },
    "e561efe018b74964985cb4e739a6f476": {
     "views": [
      {
       "cell_index": 38
      }
     ]
    },
    "f8e9022e3404409fb7b8985a50492cdc": {
     "views": [
      {
       "cell_index": 38
      }
     ]
    }
   },
   "version": "1.2.0"
  }
 },
 "nbformat": 4,
 "nbformat_minor": 0
}
